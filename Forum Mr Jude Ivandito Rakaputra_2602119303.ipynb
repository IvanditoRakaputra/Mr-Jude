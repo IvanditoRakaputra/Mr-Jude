{
 "cells": [
  {
   "cell_type": "code",
   "execution_count": 1,
   "metadata": {},
   "outputs": [
    {
     "name": "stdout",
     "output_type": "stream",
     "text": [
      "the area of the circle is:  452.16 cm^2\n"
     ]
    }
   ],
   "source": [
    "# Write a Python program which accepts the radius of a circle from the user and compute the area\n",
    "\n",
    "radius = eval(input(\" Enter the radius of a circle: \\n\"))\n",
    "area = 3.14*radius**2\n",
    "print(\"the area of the circle is: \", area,\"cm^2\")"
   ]
  },
  {
   "cell_type": "code",
   "execution_count": 27,
   "metadata": {},
   "outputs": [
    {
     "name": "stdout",
     "output_type": "stream",
     "text": [
      "frans   wijaya\n"
     ]
    }
   ],
   "source": [
    "# Write a Python program which accepts the user's first and last name and print them in reverse order with a space between them.\n",
    "\n",
    "first_name = input(\" Enter your first name: \\n \")\n",
    "last_name = input(\"Enter your last name: \\n\")\n",
    "\n",
    "print(last_name,\" \", first_name)\n",
    "\n"
   ]
  },
  {
   "cell_type": "code",
   "execution_count": 5,
   "metadata": {},
   "outputs": [
    {
     "name": "stdout",
     "output_type": "stream",
     "text": [
      "Red Black\n"
     ]
    }
   ],
   "source": [
    "# Write a Python program to display the first and last colors from the following list. color_list = [\"Red\",\"Green\",\"White\",\"Black\"]\n",
    "color_list = [\"Red\",\"Green\",\"White\",\"Black\"]\n",
    "\n",
    "print(color_list[0], color_list[3])"
   ]
  },
  {
   "cell_type": "code",
   "execution_count": 7,
   "metadata": {},
   "outputs": [
    {
     "name": "stdout",
     "output_type": "stream",
     "text": [
      "the answer is: \n",
      " 1884\n"
     ]
    }
   ],
   "source": [
    "# Write a Python program that accepts an integer (n) and computes the value of n+nn+nnn.\n",
    "\n",
    "\n",
    "n = int(input(\"Enter a random number: \\n\"))\n",
    "\n",
    "nn = n*n\n",
    "nnn = nn*n\n",
    "N = n + nn + nnn\n",
    "\n",
    "print(\"the answer is: \\n\", N)"
   ]
  },
  {
   "cell_type": "code",
   "execution_count": 9,
   "metadata": {},
   "outputs": [
    {
     "name": "stdout",
     "output_type": "stream",
     "text": [
      "75.35999999999999\n"
     ]
    }
   ],
   "source": [
    "#  Write a Python program to get the volume of a sphere with radius 6.\n",
    "\n",
    "V = 4/3 * 3.14 * 6*3\n",
    "\n",
    "print(V)"
   ]
  },
  {
   "cell_type": "code",
   "execution_count": 11,
   "metadata": {},
   "outputs": [
    {
     "name": "stdout",
     "output_type": "stream",
     "text": [
      "6\n"
     ]
    }
   ],
   "source": [
    "# Write a Python program to get the difference between a given number and 17, if the number is greater than 17 return double the absolute difference\n",
    "\n",
    "a = eval(input(\" Enter a number: \\n\"))\n",
    "\n",
    "if a > 17:\n",
    "    print((a-17)*2)\n",
    "else:\n",
    "    print (17-a)"
   ]
  },
  {
   "cell_type": "code",
   "execution_count": 13,
   "metadata": {},
   "outputs": [
    {
     "name": "stdout",
     "output_type": "stream",
     "text": [
      "9\n"
     ]
    }
   ],
   "source": [
    "#  Write a Python program to calculate the sum of three given numbers, if the values are equal then return thrice of their sum.\n",
    "\n",
    "a = eval(input(\" Enter the first number:  \"))\n",
    "b = eval(input(\" Enter the second number:  \"))\n",
    "c = eval(input(\" Enter the third number:  \"))\n",
    "\n",
    "sum = a+b+c\n",
    "\n",
    "if a == b == c:\n",
    "    print(sum*3)\n",
    "else:\n",
    "    print(sum)"
   ]
  },
  {
   "cell_type": "code",
   "execution_count": 16,
   "metadata": {},
   "outputs": [
    {
     "name": "stdout",
     "output_type": "stream",
     "text": [
      "3 is an odd number\n"
     ]
    }
   ],
   "source": [
    "# Write a Python program to find whether a given number (accept from the user) is even or odd, print out an appropriate message to the user.\n",
    "\n",
    "a = eval(input(\" Enter a number: \"))\n",
    "\n",
    "if a%2 == 0:\n",
    "    print(a ,\"is an even number\")\n",
    "else:\n",
    "    print(a, \"is an odd number\")"
   ]
  },
  {
   "cell_type": "code",
   "execution_count": 20,
   "metadata": {},
   "outputs": [
    {
     "name": "stdout",
     "output_type": "stream",
     "text": [
      "this is not a vowel\n"
     ]
    }
   ],
   "source": [
    "#  Write a Python program to test whether a letter is a vowel or not.\n",
    "\n",
    "letter = input(\" Enter a letter: \")\n",
    "\n",
    "vowel = [\"a\",\"i\",\"u\",\"e\",\"o\",\"A\",\"I\",\"U\",\"E\",\"O\"]\n",
    "\n",
    "if letter in vowel:\n",
    "    print(\"this is a vowel\")\n",
    "else:\n",
    "    print(\"this is not a vowel\")\n"
   ]
  },
  {
   "cell_type": "code",
   "execution_count": 21,
   "metadata": {},
   "outputs": [
    {
     "name": "stdout",
     "output_type": "stream",
     "text": [
      "character 1 is in the group\n"
     ]
    }
   ],
   "source": [
    "# Write a Python program to check whether a specified value is contained in a group of values.\n",
    "\n",
    "specified = input(\" enter a specified values: \")\n",
    "\n",
    "grp_specified = [\"1\",\"2\",\"3\",\"4\",\"5\",\"a\",\"b\",\"c\",\"d\",\"e\"]\n",
    "\n",
    "if specified in grp_specified:\n",
    "    print(\"character\", specified,\"is in the group\")\n",
    "else:\n",
    "    print(\"character\", specified,\"is not in the group\")"
   ]
  },
  {
   "cell_type": "code",
   "execution_count": 9,
   "metadata": {},
   "outputs": [
    {
     "data": {
      "image/png": "[encoded data removed]",
      "text/plain": [
       "<Figure size 640x480 with 1 Axes>"
      ]
     },
     "metadata": {},
     "output_type": "display_data"
    }
   ],
   "source": [
    "#  Write a Python program to create a histogram from a given list of integers.\n",
    "import matplotlib.pyplot as plt\n",
    "height_cm = [160,180,190,170,175,165,195,195,160,175,165,160,175,175,200,195,195,185,185,180,170]\n",
    "plt.hist(height_cm, bins=10)\n",
    "plt.show()"
   ]
  },
  {
   "cell_type": "code",
   "execution_count": 23,
   "metadata": {},
   "outputs": [
    {
     "name": "stdout",
     "output_type": "stream",
     "text": [
      "[386, 462, 418, 344, 236, 566, 978, 328, 162, 758, 918, 412, 566, 826, 248, 866, 950, 626, 104, 58, 512, 24, 892, 894, 742, 958]\n"
     ]
    }
   ],
   "source": [
    "# Write a Python program to print all even numbers from a given numbers list in the same order.Sample numbers list :\n",
    "numbers = [ \n",
    " 386, 462, 47, 418, 907, 344, 236, 375, 823, 566, 597, 978, 328, 615, 953, 345, \n",
    " 399, 162, 758, 219, 918, 237, 412, 566, 826, 248, 866, 950, 626, 949, 687, 217, \n",
    " 815, 67, 104, 58, 512, 24, 892, 894, 767, 553, 81, 379, 843, 831, 445, 742, 717, \n",
    " 958,743, 527 ]\n",
    "\n",
    "nmbrs = []\n",
    "\n",
    "for x in numbers:\n",
    "    if x%2 == 0:\n",
    "        nmbrs.append(x)\n",
    "print(nmbrs)"
   ]
  },
  {
   "cell_type": "code",
   "execution_count": 24,
   "metadata": {},
   "outputs": [
    {
     "name": "stdout",
     "output_type": "stream",
     "text": [
      "the area is: \n",
      " 75.0\n"
     ]
    }
   ],
   "source": [
    "# Write a Python program that will accept the base and height of a triangle and compute the area.\n",
    "\n",
    "base = eval(input(\" enter the base of the traingle: \"))\n",
    "height = eval(input(\"enter the height of the triangle: \"))\n",
    "\n",
    "area = 0.5*base*height \n",
    "\n",
    "print(\"the area is: \\n\", area)"
   ]
  },
  {
   "cell_type": "code",
   "execution_count": 11,
   "metadata": {},
   "outputs": [
    {
     "name": "stdout",
     "output_type": "stream",
     "text": [
      "120\n"
     ]
    }
   ],
   "source": [
    "# Write a Python program to get the least common multiple (LCM) of two positive integers.\n",
    "\n",
    "x = int(input(\" enter the first positive integer : \"))\n",
    "y = int(input(\" enter the second positive integer : \"))\n",
    "\n",
    "LCM = y\n",
    "integer = True\n",
    "while integer:\n",
    "    if LCM % x == 0 and LCM % y == 0:\n",
    "        print(LCM)\n",
    "        integer = False\n",
    "    LCM += 1"
   ]
  },
  {
   "cell_type": "code",
   "execution_count": 26,
   "metadata": {},
   "outputs": [
    {
     "name": "stdout",
     "output_type": "stream",
     "text": [
      "12\n"
     ]
    }
   ],
   "source": [
    "# Write a Python program to sum of three given integers. However, if two values are equal sum will be zero.\n",
    "\n",
    "a = eval(input(\" Enter the first number:  \"))\n",
    "b = eval(input(\" Enter the second number:  \"))\n",
    "c = eval(input(\" Enter the third number:  \"))\n",
    "\n",
    "if a == b or a == c or b == c:\n",
    "    print(\"the sum is  0\")\n",
    "else:\n",
    "    print(a + b + c)"
   ]
  },
  {
   "cell_type": "code",
   "execution_count": 29,
   "metadata": {},
   "outputs": [
    {
     "name": "stdout",
     "output_type": "stream",
     "text": [
      "(( 12 + 3 )^2)= 225\n"
     ]
    }
   ],
   "source": [
    "# Write a Python program to solve (x + y) * (x + y) \n",
    "# Sample Data : x = 4, y = 3\n",
    "# Expected Output : (4 + 3) ^ 2) = 49\n",
    "\n",
    "x , y = eval(input(\" Enter the value of X and Y : \"))\n",
    "\n",
    "z = (x+y)*(x+y)\n",
    "print(\"((\",x,\"+\",y,\")^2)=\",z)\n",
    "\n"
   ]
  },
  {
   "cell_type": "code",
   "execution_count": 34,
   "metadata": {},
   "outputs": [
    {
     "name": "stdout",
     "output_type": "stream",
     "text": [
      "12722.79\n"
     ]
    }
   ],
   "source": [
    "# Write a Python program to compute the future value of a specified principal amount, rate of interest, and a number of years.\n",
    "\n",
    "principle_amount= eval(input(\" Enter the principal amount:\"))\n",
    "rate_of_interest= eval(input(\" Enter the rate of interest:\"))\n",
    "number_of_year= eval(input(\" Enter the number of years:\"))\n",
    "future_value = principle_amount*((1+(int/100))**number_of_year)\n",
    "print(round(future_value,2))"
   ]
  },
  {
   "cell_type": "code",
   "execution_count": null,
   "metadata": {},
   "outputs": [],
   "source": [
    "#  Write a Python program to compute the distance between the points (x1, y1) and (x2, y2).\n",
    "\n",
    "import math\n",
    "X1 = eval(input(\" Enter the value of X1: \"))\n",
    "X2 = eval(input(\" Enter the value of X2: \"))\n",
    "Y1 = eval(input(\" Enter the value of Y1: \"))\n",
    "Y2 = eval(input(\" Enter the value of Y2: \"))\n",
    "\n",
    "distance = math.sqrt((X2 - X1)**2 +(Y2-Y1)**2)\n",
    "\n",
    "print(\"the distance between the 2 points is\", distance)\n"
   ]
  },
  {
   "cell_type": "code",
   "execution_count": 8,
   "metadata": {},
   "outputs": [
    {
     "name": "stdout",
     "output_type": "stream",
     "text": [
      "36\n"
     ]
    }
   ],
   "source": [
    "# Write a python program to sum of the first n positive integers.\n",
    "\n",
    "pstv_int = int(input(\"Enter a random number: \"))\n",
    "a = pstv_int\n",
    "while a > 0:\n",
    "    a -= 1\n",
    "    pstv_int += a\n",
    "print(pstv_int)"
   ]
  },
  {
   "cell_type": "code",
   "execution_count": 1,
   "metadata": {},
   "outputs": [
    {
     "name": "stdout",
     "output_type": "stream",
     "text": [
      "Your height in cm is:  330.20000000000005 cm\n"
     ]
    }
   ],
   "source": [
    "# Write a Python program to convert height (in feet and inches) to centimeters\n",
    "# 1 inch = 2.54 cm\n",
    "# 1 feet = 30.48 cm\n",
    "height_feet = eval(input(\"enter your height in feet: \"))\n",
    "height_inch = eval(input(\"enter your height in inch: \"))\n",
    "\n",
    "height_cm = height_inch * 2.54 + height_feet * 30.48\n",
    "\n",
    "print(\"Your height in cm is: \", height_cm, \"cm\")"
   ]
  },
  {
   "cell_type": "code",
   "execution_count": 4,
   "metadata": {},
   "outputs": [
    {
     "name": "stdout",
     "output_type": "stream",
     "text": [
      "the length of the hypotenuse is  5.0 cm\n"
     ]
    }
   ],
   "source": [
    "# Write a Python program to calculate the hypotenuse of a right angled triangle.\n",
    "\n",
    "import math\n",
    "a = eval(input(\" enter the length of the triangle side a: \"))\n",
    "b = eval(input(\" enter the length of the traingle side b: \"))\n",
    "\n",
    "hypotenuse = math.sqrt(a**2 + b**2)\n",
    "print(\"the length of the hypotenuse is \",hypotenuse,\"cm\")"
   ]
  },
  {
   "cell_type": "code",
   "execution_count": 5,
   "metadata": {},
   "outputs": [
    {
     "name": "stdout",
     "output_type": "stream",
     "text": [
      "Your Body Mass Index:  21.604938271604937\n"
     ]
    }
   ],
   "source": [
    "# Write a Python program to calculate body mass index.\n",
    "\n",
    "height_cm = float(input(\" Enter your height in Cm: \"))\n",
    "mass_kg = float(input(\" Enter your mass in Kg = \"))\n",
    "\n",
    "height_m = height_cm*0.01\n",
    "body_index_mass = mass_kg/(height_m**2)\n",
    "print(\"Your Body Mass Index: \", body_index_mass)\n"
   ]
  },
  {
   "cell_type": "code",
   "execution_count": 4,
   "metadata": {},
   "outputs": [
    {
     "name": "stdout",
     "output_type": "stream",
     "text": [
      "the midpoint is:  9.0 8.0\n"
     ]
    }
   ],
   "source": [
    "# Write a Python program to calculate midpoints of a line.\n",
    "\n",
    "X1 = eval(input(\" enter the value of X1: \"))\n",
    "X2 = eval(input(\" enter the value of X2: \"))\n",
    "Y1 = eval(input(\" enter the value of Y1: \"))\n",
    "Y2 = eval(input(\" enter the value of Y2: \"))\n",
    "\n",
    "midpoints_x = (X1+X2)/2\n",
    "midpoints_y = (Y1+Y2)/2\n",
    "\n",
    "print(\"the midpoint is: \", (midpoints_x),(midpoints_y))"
   ]
  },
  {
   "cell_type": "code",
   "execution_count": 26,
   "metadata": {},
   "outputs": [
    {
     "name": "stdout",
     "output_type": "stream",
     "text": [
      "2002,2009,2016,2023,2037,2044,2051,2058,2072,2079,2086,2093,2107,2114,2121,2128,2142,2149,2156,2163,2177,2184,2191,2198,2212,2219,2226,2233,2247,2254,2261,2268,2282,2289,2296,2303,2317,2324,2331,2338,2352,2359,2366,2373,2387,2394,2401,2408,2422,2429,2436,2443,2457,2464,2471,2478,2492,2499,2506,2513,2527,2534,2541,2548,2562,2569,2576,2583,2597,2604,2611,2618,2632,2639,2646,2653,2667,2674,2681,2688,2702,2709,2716,2723,2737,2744,2751,2758,2772,2779,2786,2793,2807,2814,2821,2828,2842,2849,2856,2863,2877,2884,2891,2898,2912,2919,2926,2933,2947,2954,2961,2968,2982,2989,2996,3003,3017,3024,3031,3038,3052,3059,3066,3073,3087,3094,3101,3108,3122,3129,3136,3143,3157,3164,3171,3178,3192,3199\n"
     ]
    }
   ],
   "source": [
    "# Write a program which will find all such numbers which are divisible by 7 but are not a multiple of 5, between 2000 and 3200 (both included). The numbers obtained should be printed in a comma-separated sequence on a single line.\n",
    "# Hints:Consider use range(#begin, #end) method\n",
    "\n",
    "numbers = []\n",
    "\n",
    "for a in range(2000,3200):\n",
    "    if a%7 == 0 and a%5 != 0:\n",
    "        numbers.append(str(a))\n",
    "\n",
    "print(','.join(numbers))\n",
    "\n"
   ]
  }
 ],
 "metadata": {
  "kernelspec": {
   "display_name": "Python 3.10.5 64-bit",
   "language": "python",
   "name": "python3"
  },
  "language_info": {
   "codemirror_mode": {
    "name": "ipython",
    "version": 3
   },
   "file_extension": ".py",
   "mimetype": "text/x-python",
   "name": "python",
   "nbconvert_exporter": "python",
   "pygments_lexer": "ipython3",
   "version": "3.10.5"
  },
  "orig_nbformat": 4,
  "vscode": {
   "interpreter": {
    "hash": "6355382baff824a74025a9ae2c6110a08416c71240d43bf39cd0ab0bdef4e761"
   }
  }
 },
 "nbformat": 4,
 "nbformat_minor": 2
}
