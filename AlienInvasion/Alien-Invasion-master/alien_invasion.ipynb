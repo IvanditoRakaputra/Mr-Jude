{
 "cells": [
  {
   "cell_type": "code",
   "execution_count": null,
   "metadata": {},
   "outputs": [],
   "source": [
    "import pygame\n",
    "from pygame.sprite import Group\n",
    "\n",
    "from settings import Settings\n",
    "from game_stats import GameStats\n",
    "from scoreboard import Scoreboard\n",
    "from button import Button\n",
    "from ship import Ship\n",
    "import game_functions as gf\n",
    "\n",
    "\n",
    "def run_game():\n",
    "\n",
    "    pygame.init()\n",
    "    ai_settings = Settings()\n",
    "    screen = pygame.display.set_mode(\n",
    "        (ai_settings.screen_width, ai_settings.screen_height)\n",
    "    )\n",
    "    pygame.display.set_caption(\"Alien Invasion\")\n",
    "\n",
    "    play_button = Button(ai_settings, screen, \"Play\")\n",
    "\n",
    "    stats = GameStats(ai_settings)\n",
    "    sb = Scoreboard(ai_settings, screen, stats)\n",
    "\n",
    "    bg_color = (230, 230, 230)\n",
    "\n",
    "    ship = Ship(ai_settings, screen)\n",
    "    bullets = Group()\n",
    "    aliens = Group()\n",
    "\n",
    "    gf.create_fleet(ai_settings, screen, ship, aliens)\n",
    "    while True:\n",
    "        gf.check_events(\n",
    "            ai_settings, screen, stats, sb, play_button, ship, aliens, bullets\n",
    "        )\n",
    "\n",
    "        if stats.game_active:\n",
    "            ship.update()\n",
    "            gf.update_bullets(ai_settings, screen, stats, sb, ship, aliens, bullets)\n",
    "            gf.update_aliens(ai_settings, screen, stats, sb, ship, aliens, bullets)\n",
    "\n",
    "        gf.update_screen(\n",
    "            ai_settings, screen, stats, sb, ship, aliens, bullets, play_button\n",
    "        )\n",
    "\n",
    "\n",
    "run_game()\n"
   ]
  }
 ],
 "metadata": {
  "kernelspec": {
   "display_name": "Python 3.11.0 64-bit",
   "language": "python",
   "name": "python3"
  },
  "language_info": {
   "name": "python",
   "version": "3.11.0"
  },
  "orig_nbformat": 4,
  "vscode": {
   "interpreter": {
    "hash": "c261aea317cc0286b3b3261fbba9abdec21eaa57589985bb7a274bf54d6cc0a7"
   }
  }
 },
 "nbformat": 4,
 "nbformat_minor": 2
}
